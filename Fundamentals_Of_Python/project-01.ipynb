{
 "cells": [
  {
   "cell_type": "markdown",
   "id": "24b57937",
   "metadata": {},
   "source": [
    "# QUESTION-01"
   ]
  },
  {
   "cell_type": "markdown",
   "id": "9bc6560d",
   "metadata": {},
   "source": [
    "Write a program to iterate the first 10 numbers, and in each iteration, print the sum of\n",
    "the current and previous number."
   ]
  },
  {
   "cell_type": "code",
   "execution_count": 1,
   "id": "b8181bba",
   "metadata": {},
   "outputs": [
    {
     "name": "stdout",
     "output_type": "stream",
     "text": [
      "-1\n",
      "1\n",
      "3\n",
      "5\n",
      "7\n",
      "9\n",
      "11\n",
      "13\n",
      "15\n",
      "17\n",
      "19\n"
     ]
    }
   ],
   "source": [
    "for i in range(11):\n",
    "    print(i + (i-1))"
   ]
  },
  {
   "cell_type": "markdown",
   "id": "d08c975a",
   "metadata": {},
   "source": [
    "# QUESTION-02"
   ]
  },
  {
   "cell_type": "markdown",
   "id": "04e5493a",
   "metadata": {},
   "source": [
    "2. Print the following pattern\n",
    "1\n",
    "2 2\n",
    "3 3 3\n",
    "4 4 4 4\n",
    "5 5 5 5 5"
   ]
  },
  {
   "cell_type": "code",
   "execution_count": 13,
   "id": "13dd4c68",
   "metadata": {},
   "outputs": [
    {
     "name": "stdout",
     "output_type": "stream",
     "text": [
      "1 \n",
      "2 2 \n",
      "3 3 3 \n",
      "4 4 4 4 \n",
      "5 5 5 5 5 \n"
     ]
    }
   ],
   "source": [
    "for i in range(1,6):\n",
    "    for j in range(i):\n",
    "        print(i,end=' ')\n",
    "    print()"
   ]
  },
  {
   "cell_type": "markdown",
   "id": "a1b0f5d1",
   "metadata": {},
   "source": [
    "# QUESTION-03"
   ]
  },
  {
   "cell_type": "markdown",
   "id": "a2bc5f5b",
   "metadata": {},
   "source": [
    "3. List is given below:\n",
    "numbers = [12, 75, 150, 180, 145, 525, 50]\n",
    "Write a program to display only those numbers from a list that satisfy the following\n",
    "conditions\n",
    "i. The number must be divisible by five\n",
    "ii. If the number is greater than 150, then skip it and move to the next number\n",
    "iii. If the number is greater than 500, then stop the loop"
   ]
  },
  {
   "cell_type": "code",
   "execution_count": 14,
   "id": "1ffa0a22",
   "metadata": {
    "scrolled": true
   },
   "outputs": [
    {
     "name": "stdout",
     "output_type": "stream",
     "text": [
      "75\n",
      "150\n",
      "145\n"
     ]
    }
   ],
   "source": [
    "nums = [12, 75, 150, 180, 145, 525, 50]\n",
    "for i in nums:\n",
    "    if i > 500:\n",
    "        break\n",
    "    elif i > 150:\n",
    "        continue\n",
    "    else:\n",
    "        if i % 5 == 0:\n",
    "            print(i)"
   ]
  },
  {
   "cell_type": "markdown",
   "id": "8516a2a1",
   "metadata": {},
   "source": [
    "# QUESTION-04"
   ]
  },
  {
   "cell_type": "markdown",
   "id": "08a6b456",
   "metadata": {},
   "source": [
    "4. Display Fibonacci series up to 10 terms\n",
    "The Fibonacci Sequence is a series of numbers. The next number is found by adding\n",
    "up the two numbers before it. The first two numbers are 0 and 1.\n",
    "For example, 0, 1, 1, 2, 3, 5, 8, 13, 21. The next number in this series above is\n",
    "13+21 = 34."
   ]
  },
  {
   "cell_type": "code",
   "execution_count": 26,
   "id": "f3411958",
   "metadata": {},
   "outputs": [
    {
     "name": "stdout",
     "output_type": "stream",
     "text": [
      "0\n",
      "1\n",
      "1\n",
      "2\n",
      "3\n",
      "5\n",
      "8\n",
      "13\n",
      "21\n",
      "34\n",
      "55\n",
      "89\n",
      "144\n",
      "233\n",
      "377\n",
      "610\n"
     ]
    }
   ],
   "source": [
    "a, b = 0, 1\n",
    "for i in range(15):\n",
    "    if i == 0:\n",
    "        print(a, b, sep = '\\n')\n",
    "    else:\n",
    "        print(a + b)\n",
    "        a, b = b, a + b"
   ]
  },
  {
   "cell_type": "markdown",
   "id": "956f0a18",
   "metadata": {},
   "source": [
    "# QUESTION-05"
   ]
  },
  {
   "cell_type": "markdown",
   "id": "ee8cac40",
   "metadata": {},
   "source": [
    "5. Write a program to use the loop to find the factorial of a given number.\n",
    "The factorial (symbol: !) means to multiply all whole numbers from the chosen number\n",
    "down to 1.\n",
    "For example: calculate the factorial of 5\n",
    "5! = 5 × 4 × 3 × 2 × 1 = 120"
   ]
  },
  {
   "cell_type": "code",
   "execution_count": 29,
   "id": "537d3379",
   "metadata": {},
   "outputs": [
    {
     "name": "stdout",
     "output_type": "stream",
     "text": [
      "Enter Any Positive Number: 5\n",
      "The Factorial Is: 120\n"
     ]
    }
   ],
   "source": [
    "num = int(input('Enter Any Positive Number: '))\n",
    "if num > 1:\n",
    "    m = 1\n",
    "    for i in range(2, num+1):\n",
    "        m *= i\n",
    "    print(f'The Factorial Is: {m}')\n",
    "else:\n",
    "    print(f'The Factorial Is: {num}')"
   ]
  },
  {
   "cell_type": "markdown",
   "id": "29b9c978",
   "metadata": {},
   "source": [
    "# QUESTION-06"
   ]
  },
  {
   "cell_type": "markdown",
   "id": "481075e0",
   "metadata": {},
   "source": [
    "6. Write a program to iterate a given list and count the occurrence of each element and\n",
    "print to show the count of each element.\n",
    "sample_list = [11, 45, 8, 11, 23, 45, 23, 45, 89]\n",
    "Expected Output:\n",
    "Printing count of each item 11: 2, 45: 3, 8: 1, 23: 2, 89: 1"
   ]
  },
  {
   "cell_type": "code",
   "execution_count": 31,
   "id": "f7b424df",
   "metadata": {},
   "outputs": [
    {
     "name": "stdout",
     "output_type": "stream",
     "text": [
      "8: 1\n",
      "11: 2\n",
      "45: 3\n",
      "23: 2\n",
      "89: 1\n"
     ]
    }
   ],
   "source": [
    "nums = [11, 45, 8, 11, 23, 45, 23, 45, 89]\n",
    "for i in set(nums):\n",
    "    count = 0\n",
    "    for j in nums:\n",
    "        if j == i:\n",
    "            count += 1\n",
    "    print(f'{i}: {count}')"
   ]
  },
  {
   "cell_type": "markdown",
   "id": "40b121e9",
   "metadata": {},
   "source": [
    "# QUESTION-07"
   ]
  },
  {
   "cell_type": "markdown",
   "id": "e656069e",
   "metadata": {},
   "source": [
    "7. Given two lists, l1 and l2, write a program to create a third list l3 by picking an\n",
    "odd-index element from the list l1 and even index elements from the list l2.\n",
    "Given:\n",
    "l1 = [3, 6, 9, 12, 15, 18, 21]\n",
    "l2 = [4, 8, 12, 16, 20, 24, 28]"
   ]
  },
  {
   "cell_type": "code",
   "execution_count": 35,
   "id": "ad0f3bc7",
   "metadata": {},
   "outputs": [
    {
     "name": "stdout",
     "output_type": "stream",
     "text": [
      "[4, 6, 12, 12, 20, 18, 28]\n"
     ]
    }
   ],
   "source": [
    "l1 = [3, 6, 9, 12, 15, 18, 21]\n",
    "l2 = [4, 8, 12, 16, 20, 24, 28]\n",
    "l3 = []\n",
    "for i in range(len(l1)):\n",
    "    if i % 2 == 0:\n",
    "        l3.append(l2[i])\n",
    "    else:\n",
    "        l3.append(l1[i])\n",
    "print(l3)"
   ]
  },
  {
   "cell_type": "code",
   "execution_count": null,
   "id": "e90585d3",
   "metadata": {},
   "outputs": [],
   "source": []
  }
 ],
 "metadata": {
  "kernelspec": {
   "display_name": "Python 3 (ipykernel)",
   "language": "python",
   "name": "python3"
  },
  "language_info": {
   "codemirror_mode": {
    "name": "ipython",
    "version": 3
   },
   "file_extension": ".py",
   "mimetype": "text/x-python",
   "name": "python",
   "nbconvert_exporter": "python",
   "pygments_lexer": "ipython3",
   "version": "3.9.18"
  }
 },
 "nbformat": 4,
 "nbformat_minor": 5
}
